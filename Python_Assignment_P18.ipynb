{
  "nbformat": 4,
  "nbformat_minor": 0,
  "metadata": {
    "colab": {
      "provenance": [],
      "authorship_tag": "ABX9TyOVZqlYv14+0uYhXQrXsRdE"
    },
    "kernelspec": {
      "name": "python3",
      "display_name": "Python 3"
    },
    "language_info": {
      "name": "python"
    }
  },
  "cells": [
    {
      "cell_type": "code",
      "execution_count": 1,
      "metadata": {
        "colab": {
          "base_uri": "https://localhost:8080/"
        },
        "id": "hoi1HVY0ZjOs",
        "outputId": "60e61f53-a201-4f95-d867-03d1415dfa28"
      },
      "outputs": [
        {
          "output_type": "execute_result",
          "data": {
            "text/plain": [
              "[1, 3, 4]"
            ]
          },
          "metadata": {},
          "execution_count": 1
        }
      ],
      "source": [
        "#Question1\n",
        "def filter_list(lst):\n",
        "  return [x for x in lst if type(x)==int]\n",
        "\n",
        "filter_list([1, 3, 4, 'a', 'b'])\n"
      ]
    },
    {
      "cell_type": "code",
      "source": [
        "#Question2\n",
        "def reverse(Str):\n",
        "  lst = list(Str)\n",
        "  s = ''\n",
        "  for i in lst:\n",
        "    s = i.swapcase() + s\n",
        "  return s\n",
        "\n",
        "reverse('Hello World')"
      ],
      "metadata": {
        "colab": {
          "base_uri": "https://localhost:8080/",
          "height": 35
        },
        "id": "DHPBDawdaSY4",
        "outputId": "a7e546c4-8f36-4058-9b42-8ef7b097825e"
      },
      "execution_count": 4,
      "outputs": [
        {
          "output_type": "execute_result",
          "data": {
            "text/plain": [
              "'DLROw OLLEh'"
            ],
            "application/vnd.google.colaboratory.intrinsic+json": {
              "type": "string"
            }
          },
          "metadata": {},
          "execution_count": 4
        }
      ]
    },
    {
      "cell_type": "code",
      "source": [
        "#Question3\n",
        "def unpack(lst):\n",
        "  return lst[0], lst[1:-1], lst[-1]\n",
        "\n",
        "first, middle, last = unpack([1, 3, 4, 5, 6, 7])\n",
        "print(first, middle, last)"
      ],
      "metadata": {
        "colab": {
          "base_uri": "https://localhost:8080/"
        },
        "id": "UQIBaNgQbFgQ",
        "outputId": "53178215-c79a-41ae-dd74-54f5bdfdfc52"
      },
      "execution_count": 6,
      "outputs": [
        {
          "output_type": "stream",
          "name": "stdout",
          "text": [
            "1 [3, 4, 5, 6] 7\n"
          ]
        }
      ]
    },
    {
      "cell_type": "code",
      "source": [
        "#Question4\n",
        "def factorial(num):\n",
        "  if num ==1:\n",
        "    return 1\n",
        "  else:\n",
        "    return num*factorial(num-1)\n",
        "\n",
        "factorial(5)"
      ],
      "metadata": {
        "colab": {
          "base_uri": "https://localhost:8080/"
        },
        "id": "7kvA5V9FccF3",
        "outputId": "238e777a-2eca-4ab0-ae4a-7165ec2b9002"
      },
      "execution_count": 8,
      "outputs": [
        {
          "output_type": "execute_result",
          "data": {
            "text/plain": [
              "120"
            ]
          },
          "metadata": {},
          "execution_count": 8
        }
      ]
    },
    {
      "cell_type": "code",
      "source": [
        "#Question5\n",
        "def move_to_end(lst, x):\n",
        "  for i in lst:\n",
        "    if i == x:\n",
        "      lst.append(x)\n",
        "      lst.remove(x)\n",
        "  return lst\n",
        "\n",
        "move_to_end([1, 1, 2, 1, 3], 1)"
      ],
      "metadata": {
        "colab": {
          "base_uri": "https://localhost:8080/"
        },
        "id": "ZFWGJ0IJeBIE",
        "outputId": "33448a6d-2726-4d38-f392-ca987b4461a4"
      },
      "execution_count": 10,
      "outputs": [
        {
          "output_type": "execute_result",
          "data": {
            "text/plain": [
              "[2, 3, 1, 1, 1]"
            ]
          },
          "metadata": {},
          "execution_count": 10
        }
      ]
    }
  ]
}