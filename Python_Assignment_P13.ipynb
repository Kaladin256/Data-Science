{
  "nbformat": 4,
  "nbformat_minor": 0,
  "metadata": {
    "colab": {
      "provenance": [],
      "authorship_tag": "ABX9TyP6T0mvZW41VYx3gwQfEjtS"
    },
    "kernelspec": {
      "name": "python3",
      "display_name": "Python 3"
    },
    "language_info": {
      "name": "python"
    }
  },
  "cells": [
    {
      "cell_type": "code",
      "execution_count": null,
      "metadata": {
        "colab": {
          "base_uri": "https://localhost:8080/",
          "height": 53
        },
        "id": "SkRG6sOcxVBM",
        "outputId": "970b37d2-5326-4e0f-b802-ef8194fad5b2"
      },
      "outputs": [
        {
          "name": "stdout",
          "output_type": "stream",
          "text": [
            "Enter comma separated values of D: 40,50,60\n"
          ]
        },
        {
          "output_type": "execute_result",
          "data": {
            "text/plain": [
              "'11.547005383792516,12.909944487358056,14.142135623730951'"
            ],
            "application/vnd.google.colaboratory.intrinsic+json": {
              "type": "string"
            }
          },
          "metadata": {},
          "execution_count": 19
        }
      ],
      "source": [
        "#Question 1\n",
        "import math\n",
        "def Q(D):\n",
        "  return str(math.sqrt(2*50*D/30))\n",
        "\n",
        "inp = input(\"Enter comma separated values of D: \")\n",
        "lst = []\n",
        "for i in inp.split(','):\n",
        "  lst.append(Q(int(i)))\n",
        "','.join(lst)"
      ]
    },
    {
      "cell_type": "code",
      "source": [
        "#Question 2\n",
        "def Two_array(x, y):\n",
        "  res_array = []\n",
        "  for i in range(0, x):\n",
        "    lst = []\n",
        "    for j in range(0, y):\n",
        "      lst.append(i*j)\n",
        "    res_array.append(lst)\n",
        "  return res_array\n",
        "\n",
        "X = int(input('Enter a value between 1 and 9 for X: '))\n",
        "Y = int(input('Enter a value between 1 and 9 for Y: '))\n",
        "\n",
        "result = Two_array(X, Y)\n",
        "result"
      ],
      "metadata": {
        "colab": {
          "base_uri": "https://localhost:8080/"
        },
        "id": "GvDlQYYk0xSx",
        "outputId": "cef3aa41-0e10-4b20-d6e1-0c6b4a0048a4"
      },
      "execution_count": null,
      "outputs": [
        {
          "name": "stdout",
          "output_type": "stream",
          "text": [
            "Enter a value between 1 and 9 for X: 4\n",
            "Enter a value between 1 and 9 for Y: 5\n"
          ]
        },
        {
          "output_type": "execute_result",
          "data": {
            "text/plain": [
              "[[0, 0, 0, 0, 0], [0, 1, 2, 3, 4], [0, 2, 4, 6, 8], [0, 3, 6, 9, 12]]"
            ]
          },
          "metadata": {},
          "execution_count": 13
        }
      ]
    },
    {
      "cell_type": "code",
      "source": [
        "#Question 3\n",
        "def sort_words(Str):\n",
        "  lst_words = Str.split(',')\n",
        "  lst_words.sort()\n",
        "  for i in lst_words:\n",
        "    print(i, end=',')\n",
        "\n",
        "inp = input('Enter words separated with commas: ')\n",
        "sort_words(inp)"
      ],
      "metadata": {
        "colab": {
          "base_uri": "https://localhost:8080/"
        },
        "id": "1XmxJ0Cu5w36",
        "outputId": "9a769f72-9e83-4b77-83be-0b70468cd268"
      },
      "execution_count": null,
      "outputs": [
        {
          "output_type": "stream",
          "name": "stdout",
          "text": [
            "Enter words separated with commas: cat,horse,man\n",
            "cat,horse,man,"
          ]
        }
      ]
    },
    {
      "cell_type": "code",
      "source": [
        "#Question 4:\n",
        "def rem_dup(Str):\n",
        "  lst = Str.split(' ')\n",
        "  set_words = set(lst)\n",
        "  lst = list(set_words)\n",
        "  lst.sort()\n",
        "  return ' '.join(lst)\n",
        "\n",
        "inp = input('Enter a sentence: ')\n",
        "rem_dup(inp)"
      ],
      "metadata": {
        "colab": {
          "base_uri": "https://localhost:8080/",
          "height": 53
        },
        "id": "yjkKeQAT78Hw",
        "outputId": "f8941aa0-4a69-495f-96e8-58ab478dd88c"
      },
      "execution_count": null,
      "outputs": [
        {
          "name": "stdout",
          "output_type": "stream",
          "text": [
            "Enter a sentence: dont think past is past think about future\n"
          ]
        },
        {
          "output_type": "execute_result",
          "data": {
            "text/plain": [
              "'about dont future is past think'"
            ],
            "application/vnd.google.colaboratory.intrinsic+json": {
              "type": "string"
            }
          },
          "metadata": {},
          "execution_count": 18
        }
      ]
    },
    {
      "cell_type": "code",
      "source": [
        "#Question 5:\n",
        "def counter(Str):\n",
        "  letter = 0\n",
        "  number = 0\n",
        "  for i in Str:\n",
        "    if i.isalpha():\n",
        "      letter = letter + 1\n",
        "    elif i.isdigit():\n",
        "      number = number + 1\n",
        "  return letter, number\n",
        "\n",
        "inp = input('Enter a string')\n",
        "l, n = counter(inp)\n",
        "print(f'LETTERS {l}')\n",
        "print(f'DIGITS {n}')"
      ],
      "metadata": {
        "colab": {
          "base_uri": "https://localhost:8080/"
        },
        "id": "aE4JgjP0Jpnd",
        "outputId": "ce10b825-6deb-4d54-c7cf-44b65af63d24"
      },
      "execution_count": null,
      "outputs": [
        {
          "output_type": "stream",
          "name": "stdout",
          "text": [
            "Enter a string1234abcd\n",
            "LETTERS 4\n",
            "DIGITS 4\n"
          ]
        }
      ]
    },
    {
      "cell_type": "code",
      "source": [
        "#Question 6\n",
        "def check_password(Str):\n",
        "  result = []\n",
        "  for i in Str.split(','):\n",
        "    if len(i)>=6 and len(i)<=12:\n",
        "      u,l,d,s = 0, 0, 0, 0\n",
        "      for j in i:\n",
        "        if j.isupper():\n",
        "          u=u+1\n",
        "        elif j.islower():\n",
        "          l=l+1\n",
        "        elif j.isdigit():\n",
        "          d=d+1\n",
        "        elif j in ['$','#','@']:\n",
        "          s=s+1\n",
        "      if u>0 and l>0 and d>0 and s>0:\n",
        "        result.append(i)\n",
        "  return result\n",
        "\n",
        "inp = input('Enter a string containing passwords: ')\n",
        "for i in check_password(inp):\n",
        "  print(i, end = ' ')"
      ],
      "metadata": {
        "colab": {
          "base_uri": "https://localhost:8080/"
        },
        "id": "CcRr4xY5LS5h",
        "outputId": "0585796a-3970-4af0-ce48-c66029964562"
      },
      "execution_count": 18,
      "outputs": [
        {
          "output_type": "stream",
          "name": "stdout",
          "text": [
            "Enter a string containing passwords: @efFsrgh1,Adefrgrq1@,ADGRge24,AFswrsg#df\n",
            "@efFsrgh1 Adefrgrq1@ "
          ]
        }
      ]
    },
    {
      "cell_type": "code",
      "source": [
        "\n",
        "s,j = 1, 1\n",
        "print(s,j == 1, 1)"
      ],
      "metadata": {
        "colab": {
          "base_uri": "https://localhost:8080/"
        },
        "id": "S-gSbkdYWHAP",
        "outputId": "a5374693-211d-4398-c777-4e4a3be4af4b"
      },
      "execution_count": 11,
      "outputs": [
        {
          "output_type": "stream",
          "name": "stdout",
          "text": [
            "1 True 1\n"
          ]
        }
      ]
    }
  ]
}