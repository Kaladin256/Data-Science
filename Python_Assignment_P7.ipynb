{
  "nbformat": 4,
  "nbformat_minor": 0,
  "metadata": {
    "colab": {
      "provenance": [],
      "authorship_tag": "ABX9TyPzR3fuQFj8rcboNepzNzx7",
      "include_colab_link": true
    },
    "kernelspec": {
      "name": "python3",
      "display_name": "Python 3"
    },
    "language_info": {
      "name": "python"
    }
  },
  "cells": [
    {
      "cell_type": "markdown",
      "metadata": {
        "id": "view-in-github",
        "colab_type": "text"
      },
      "source": [
        "<a href=\"https://colab.research.google.com/github/Kaladin256/Data-Science/blob/main/Python_Assignment_P7.ipynb\" target=\"_parent\"><img src=\"https://colab.research.google.com/assets/colab-badge.svg\" alt=\"Open In Colab\"/></a>"
      ]
    },
    {
      "cell_type": "code",
      "execution_count": 7,
      "metadata": {
        "colab": {
          "base_uri": "https://localhost:8080/"
        },
        "id": "SGOA4MV2cxDr",
        "outputId": "441df8e0-24ea-472e-fd0b-afe05c5b8ebc"
      },
      "outputs": [
        {
          "output_type": "stream",
          "name": "stdout",
          "text": [
            "Enter integers separated by commas: 1, 2\n",
            "3 is sum of given numbers\n"
          ]
        }
      ],
      "source": [
        "#1 Write a Python Program to find sum of array?\n",
        "\n",
        "inp = input('Enter integers separated by commas: ')\n",
        "inp_list = [int(x) for x in inp.split(',')]\n",
        "sum = 0\n",
        "for i in inp_list:\n",
        "    sum = sum + i\n",
        "print(f'{sum} is sum of given numbers')\n",
        "  "
      ]
    },
    {
      "cell_type": "code",
      "source": [
        "#2 Write a Python Program to find largest element in an array?\n",
        "inp = input('Enter integers separated by commas: ')\n",
        "inp_list = [int(x) for x in inp.split(',')]\n",
        "max = inp_list[0]\n",
        "for i in inp_list:\n",
        "  if i > max:\n",
        "    max = i\n",
        "print(f'{max} is the largest of the numbers')"
      ],
      "metadata": {
        "colab": {
          "base_uri": "https://localhost:8080/"
        },
        "id": "rAAbA193h0rr",
        "outputId": "8b99d4bb-0809-4120-c663-6d23140f9e12"
      },
      "execution_count": 8,
      "outputs": [
        {
          "output_type": "stream",
          "name": "stdout",
          "text": [
            "Enter integers separated by commas: 1,2,3\n",
            "3 is the largest of the numbers\n"
          ]
        }
      ]
    },
    {
      "cell_type": "code",
      "source": [
        "#3 Write a Python Program for array rotation?\n",
        "def array_rot(List):\n",
        "  rlist = []\n",
        "  for i in List:\n",
        "    rlist.insert(0, i)\n",
        "  return rlist\n",
        "\n",
        "array_rot([1, 3, 3, 4, 5])"
      ],
      "metadata": {
        "colab": {
          "base_uri": "https://localhost:8080/"
        },
        "id": "gH2TFIqXiqS9",
        "outputId": "d1849e42-9537-4c20-bf4c-f1db72ec7647"
      },
      "execution_count": 10,
      "outputs": [
        {
          "output_type": "execute_result",
          "data": {
            "text/plain": [
              "[5, 4, 3, 3, 1]"
            ]
          },
          "metadata": {},
          "execution_count": 10
        }
      ]
    },
    {
      "cell_type": "code",
      "source": [
        "#4 Write a Python Program to Split the array and add the first part to the end?\n",
        "def array_rearr(List, Index):\n",
        "  new_arr = List[Index + 1:]\n",
        "  new_arr.extend(List[:Index + 1])\n",
        "  return new_arr\n",
        "\n",
        "array_rearr([1, 2, 3, 4], 2)\n"
      ],
      "metadata": {
        "colab": {
          "base_uri": "https://localhost:8080/"
        },
        "id": "NPhxR-Mxjsgs",
        "outputId": "4ba679e7-9af9-415f-db3c-82d3a6cbf7e3"
      },
      "execution_count": 20,
      "outputs": [
        {
          "output_type": "execute_result",
          "data": {
            "text/plain": [
              "[4, 1, 2, 3]"
            ]
          },
          "metadata": {},
          "execution_count": 20
        }
      ]
    },
    {
      "cell_type": "code",
      "source": [
        "#5 Write a Python Program to check if given array is Monotonic?\n",
        "def mono(List):\n",
        "  inc = 0\n",
        "  dec = 0\n",
        "  for i in range(1, len(List)):\n",
        "    if List[i]>List[i-1]:\n",
        "      inc = inc + 1\n",
        "    elif List[i]<List[i-1]:\n",
        "      dec = dec + 1\n",
        "  if inc > 0 and dec > 0:\n",
        "    print('List is not monotonic')\n",
        "  else:\n",
        "    print('List is monotonic')\n",
        "\n",
        "mono([1, 0, 0, 1])\n",
        "  "
      ],
      "metadata": {
        "colab": {
          "base_uri": "https://localhost:8080/"
        },
        "id": "Rr577JMEmQJG",
        "outputId": "9d9a3fe6-7937-43b3-c479-7c6ff1529dd4"
      },
      "execution_count": 23,
      "outputs": [
        {
          "output_type": "stream",
          "name": "stdout",
          "text": [
            "List is not monotonic\n"
          ]
        }
      ]
    }
  ]
}