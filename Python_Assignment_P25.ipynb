{
  "nbformat": 4,
  "nbformat_minor": 0,
  "metadata": {
    "colab": {
      "provenance": [],
      "authorship_tag": "ABX9TyNtCK8VNoVRp8FfQD+YyyKy"
    },
    "kernelspec": {
      "name": "python3",
      "display_name": "Python 3"
    },
    "language_info": {
      "name": "python"
    }
  },
  "cells": [
    {
      "cell_type": "code",
      "execution_count": 2,
      "metadata": {
        "colab": {
          "base_uri": "https://localhost:8080/"
        },
        "id": "ste2-PS295dY",
        "outputId": "40943e77-df5b-4b95-ffd5-de3627014cba"
      },
      "outputs": [
        {
          "output_type": "execute_result",
          "data": {
            "text/plain": [
              "2"
            ]
          },
          "metadata": {},
          "execution_count": 2
        }
      ],
      "source": [
        "#Question 1\n",
        "def equal(a, b, c):\n",
        "  sum = (a==b)+(b==c)+(c==a)\n",
        "  if sum ==3:\n",
        "    return 3\n",
        "  elif sum == 1:\n",
        "    return 2\n",
        "  else:\n",
        "    return 0\n",
        "\n",
        "equal(3, 4, 3)"
      ]
    },
    {
      "cell_type": "code",
      "source": [
        "#Question 2\n",
        "def dict_to_list(d):\n",
        "  lst = list(d.keys())\n",
        "  lst.sort()\n",
        "  return [(i,d[i]) for i in lst]\n",
        "\n",
        "dict_to_list({\n",
        "  \"likes\": 2,\n",
        "  \"dislikes\": 3,\n",
        "  \"followers\": 10\n",
        "})\n"
      ],
      "metadata": {
        "colab": {
          "base_uri": "https://localhost:8080/"
        },
        "id": "ZJmh4Bev-D4D",
        "outputId": "afeb729d-201f-49de-8b89-5ec8bb540707"
      },
      "execution_count": 3,
      "outputs": [
        {
          "output_type": "execute_result",
          "data": {
            "text/plain": [
              "[('dislikes', 3), ('followers', 10), ('likes', 2)]"
            ]
          },
          "metadata": {},
          "execution_count": 3
        }
      ]
    },
    {
      "cell_type": "code",
      "source": [
        "#Question 3\n",
        "def mapping(lst):\n",
        "  return {i:i.upper() for i in lst}\n",
        "mapping([\"p\", \"s\"])"
      ],
      "metadata": {
        "colab": {
          "base_uri": "https://localhost:8080/"
        },
        "id": "pP1xq-epAo16",
        "outputId": "041fe3e9-63dd-4ee3-f26f-02d9a9b553ff"
      },
      "execution_count": 6,
      "outputs": [
        {
          "output_type": "execute_result",
          "data": {
            "text/plain": [
              "{'p': 'P', 's': 'S'}"
            ]
          },
          "metadata": {},
          "execution_count": 6
        }
      ]
    },
    {
      "cell_type": "code",
      "source": [
        "#Question 4\n",
        "def vow_replace(Str, x):\n",
        "  for i in range(0,len(Str)):\n",
        "    if Str[i] in ['a','e','i','o','u']:\n",
        "      Str = Str[:i] + x + Str[(i+1):]\n",
        "  return Str\n",
        "\n",
        "vow_replace(\"apples and bananas\", \"u\")"
      ],
      "metadata": {
        "colab": {
          "base_uri": "https://localhost:8080/",
          "height": 35
        },
        "id": "cbzgDPo5_VsH",
        "outputId": "3f63b4c2-7ef7-4828-f486-0d346f525fcf"
      },
      "execution_count": 10,
      "outputs": [
        {
          "output_type": "execute_result",
          "data": {
            "text/plain": [
              "'upplus und bununus'"
            ],
            "application/vnd.google.colaboratory.intrinsic+json": {
              "type": "string"
            }
          },
          "metadata": {},
          "execution_count": 10
        }
      ]
    },
    {
      "cell_type": "code",
      "source": [
        "#Question 5\n",
        "def ascii_capitalize(Str):\n",
        "  res = ''\n",
        "  for i in range(0, len(Str)):\n",
        "    if ord(Str[i])%2 == 0:\n",
        "      res = res + Str[i].upper()\n",
        "    else:\n",
        "      res = res + Str[i].lower()\n",
        "  return res\n",
        "\n",
        "ascii_capitalize(\"THE LITTLE MERMAID\")\n"
      ],
      "metadata": {
        "colab": {
          "base_uri": "https://localhost:8080/",
          "height": 35
        },
        "id": "er0_7hk4GE23",
        "outputId": "3da094e9-d3bc-4218-f0a5-9dbb18116914"
      },
      "execution_count": 13,
      "outputs": [
        {
          "output_type": "execute_result",
          "data": {
            "text/plain": [
              "'THe LiTTLe meRmaiD'"
            ],
            "application/vnd.google.colaboratory.intrinsic+json": {
              "type": "string"
            }
          },
          "metadata": {},
          "execution_count": 13
        }
      ]
    },
    {
      "cell_type": "code",
      "source": [
        "ord('A')"
      ],
      "metadata": {
        "colab": {
          "base_uri": "https://localhost:8080/"
        },
        "id": "S8WKDPJBGutT",
        "outputId": "be1acc40-f258-4825-f3cc-939c984cfa28"
      },
      "execution_count": 12,
      "outputs": [
        {
          "output_type": "execute_result",
          "data": {
            "text/plain": [
              "65"
            ]
          },
          "metadata": {},
          "execution_count": 12
        }
      ]
    }
  ]
}