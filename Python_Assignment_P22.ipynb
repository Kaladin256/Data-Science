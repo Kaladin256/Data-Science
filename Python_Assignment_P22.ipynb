{
  "nbformat": 4,
  "nbformat_minor": 0,
  "metadata": {
    "colab": {
      "provenance": [],
      "authorship_tag": "ABX9TyNYtvyIKJTfYMHMgV8mZatf"
    },
    "kernelspec": {
      "name": "python3",
      "display_name": "Python 3"
    },
    "language_info": {
      "name": "python"
    }
  },
  "cells": [
    {
      "cell_type": "code",
      "execution_count": 1,
      "metadata": {
        "colab": {
          "base_uri": "https://localhost:8080/"
        },
        "id": "7b9tS3QIb5zt",
        "outputId": "4422ee9b-e25d-4173-cdbb-089ff6d1887c"
      },
      "outputs": [
        {
          "output_type": "execute_result",
          "data": {
            "text/plain": [
              "[3, 6, 9]"
            ]
          },
          "metadata": {},
          "execution_count": 1
        }
      ],
      "source": [
        "#Question1\n",
        "def list_operation(x, y, n):\n",
        "  return [i for i in range(x, y+1) if i%n == 0]\n",
        "list_operation(1, 10, 3)"
      ]
    },
    {
      "cell_type": "code",
      "source": [
        "#Question2\n",
        "def simon_says(lst1, lst2):\n",
        "  for i in range(0, len(lst1)-1):\n",
        "    if lst1[i] == lst2[i+1]:\n",
        "      pass\n",
        "    else:\n",
        "      return False\n",
        "  return True\n",
        "\n",
        "simon_says([1, 2, 3, 4, 5], [0, 1, 2, 3, 4]) "
      ],
      "metadata": {
        "colab": {
          "base_uri": "https://localhost:8080/"
        },
        "id": "pnQKg_CBczpW",
        "outputId": "89544fcc-dc11-495b-fe4e-541de2a3e526"
      },
      "execution_count": 5,
      "outputs": [
        {
          "output_type": "execute_result",
          "data": {
            "text/plain": [
              "True"
            ]
          },
          "metadata": {},
          "execution_count": 5
        }
      ]
    },
    {
      "cell_type": "code",
      "source": [
        "#Question3\n",
        "def society_name(lst):\n",
        "  temp = [i[0] for i in lst]\n",
        "  temp.sort()\n",
        "  res = ''\n",
        "  for i in temp:\n",
        "    res = res + i\n",
        "  return res\n",
        "\n",
        "society_name([\"Adam\", \"Sarah\", \"Malcolm\"])"
      ],
      "metadata": {
        "colab": {
          "base_uri": "https://localhost:8080/",
          "height": 35
        },
        "id": "iWoB3FWmfhqf",
        "outputId": "39cbde76-3ef1-4e06-c04e-925c36aa040b"
      },
      "execution_count": 7,
      "outputs": [
        {
          "output_type": "execute_result",
          "data": {
            "text/plain": [
              "'AMS'"
            ],
            "application/vnd.google.colaboratory.intrinsic+json": {
              "type": "string"
            }
          },
          "metadata": {},
          "execution_count": 7
        }
      ]
    },
    {
      "cell_type": "code",
      "source": [
        "#Question4\n",
        "def is_isogram(Str):\n",
        "  Dict = {}\n",
        "  for i in Str:\n",
        "    Dict[i] = Dict.get(i, 0) + 1\n",
        "    if Dict[i]>1:\n",
        "      return False\n",
        "  return True\n",
        "\n",
        "is_isogram(\"Consecutive\")"
      ],
      "metadata": {
        "colab": {
          "base_uri": "https://localhost:8080/"
        },
        "id": "BxWBvBvLgoCQ",
        "outputId": "ae70b2fa-29e3-4b04-f7bf-12837d7c1018"
      },
      "execution_count": 9,
      "outputs": [
        {
          "output_type": "execute_result",
          "data": {
            "text/plain": [
              "False"
            ]
          },
          "metadata": {},
          "execution_count": 9
        }
      ]
    },
    {
      "cell_type": "code",
      "source": [
        "#Question5\n",
        "def is_in_order(Str):\n",
        "  lst1, lst2 = list(Str), list(Str)\n",
        "  lst2.sort()\n",
        "  if lst1 == lst2:\n",
        "    return True\n",
        "  else:\n",
        "    return False\n",
        "\n",
        "is_in_order(\"edabit\")"
      ],
      "metadata": {
        "colab": {
          "base_uri": "https://localhost:8080/"
        },
        "id": "ChRQeJ2Ih6aB",
        "outputId": "3db4c3af-62c0-411e-91d2-974c9407d8f3"
      },
      "execution_count": 11,
      "outputs": [
        {
          "output_type": "execute_result",
          "data": {
            "text/plain": [
              "False"
            ]
          },
          "metadata": {},
          "execution_count": 11
        }
      ]
    }
  ]
}