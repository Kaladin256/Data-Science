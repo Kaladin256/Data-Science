{
  "nbformat": 4,
  "nbformat_minor": 0,
  "metadata": {
    "colab": {
      "provenance": [],
      "authorship_tag": "ABX9TyPOXfVuIwnasdpOQ27Ft6xO"
    },
    "kernelspec": {
      "name": "python3",
      "display_name": "Python 3"
    },
    "language_info": {
      "name": "python"
    }
  },
  "cells": [
    {
      "cell_type": "code",
      "execution_count": 2,
      "metadata": {
        "colab": {
          "base_uri": "https://localhost:8080/"
        },
        "id": "H29ncj9XEL1i",
        "outputId": "d8b8d6e2-d658-47dd-b02c-2e5ad5ca9162"
      },
      "outputs": [
        {
          "output_type": "execute_result",
          "data": {
            "text/plain": [
              "[1, 3, 4, 5]"
            ]
          },
          "metadata": {},
          "execution_count": 2
        }
      ],
      "source": [
        "#Question 1\n",
        "def filter_list(lst):\n",
        "  res = []\n",
        "  for i in lst:\n",
        "    if type(i) == int:\n",
        "      res.append(i)\n",
        "  return res\n",
        "\n",
        "filter_list([1, 3, 4, 5, 'a'])"
      ]
    },
    {
      "cell_type": "code",
      "source": [
        "#Question 2\n",
        "def add_indexes(lst):\n",
        "  return [(i + lst[i]) for i in range(0, len(lst))]\n",
        "\n",
        "add_indexes([1, 2, 3])"
      ],
      "metadata": {
        "colab": {
          "base_uri": "https://localhost:8080/"
        },
        "id": "-BsagUdpEys8",
        "outputId": "5ea0f1bb-dfc2-466a-c34e-d6042c6c48a3"
      },
      "execution_count": 3,
      "outputs": [
        {
          "output_type": "execute_result",
          "data": {
            "text/plain": [
              "[1, 3, 5]"
            ]
          },
          "metadata": {},
          "execution_count": 3
        }
      ]
    },
    {
      "cell_type": "code",
      "source": [
        "#Question 3\n",
        "import math\n",
        "def cone_volume(r, h):\n",
        "  return round(math.pi*r**2*h/3, 2)\n",
        "\n",
        "cone_volume(2, 3)"
      ],
      "metadata": {
        "colab": {
          "base_uri": "https://localhost:8080/"
        },
        "id": "OAbY0S91FXyb",
        "outputId": "5b864286-39e9-4752-b675-2b3d5a0229b1"
      },
      "execution_count": 4,
      "outputs": [
        {
          "output_type": "execute_result",
          "data": {
            "text/plain": [
              "12.57"
            ]
          },
          "metadata": {},
          "execution_count": 4
        }
      ]
    },
    {
      "cell_type": "code",
      "source": [
        "#Question 4\n",
        "def triangle(n):\n",
        "  return int(n*(n+1)/2)\n",
        "\n",
        "triangle(6)"
      ],
      "metadata": {
        "colab": {
          "base_uri": "https://localhost:8080/"
        },
        "id": "OYyLp4qPGTNN",
        "outputId": "83bf21ff-b778-40b7-c286-aa672cae94f2"
      },
      "execution_count": 7,
      "outputs": [
        {
          "output_type": "execute_result",
          "data": {
            "text/plain": [
              "21"
            ]
          },
          "metadata": {},
          "execution_count": 7
        }
      ]
    },
    {
      "cell_type": "code",
      "source": [
        "#Question 5\n",
        "def missing_num(lst):\n",
        "  sum = 0\n",
        "  for i in lst:\n",
        "    sum  = sum + i\n",
        "  return 55-sum\n",
        "\n",
        "missing_num([1,2,3,4,5,6,7,8,9])"
      ],
      "metadata": {
        "colab": {
          "base_uri": "https://localhost:8080/"
        },
        "id": "tsPcQp_gHCAT",
        "outputId": "a296f4f8-8114-442a-a5fe-9ded5a21cc45"
      },
      "execution_count": 8,
      "outputs": [
        {
          "output_type": "execute_result",
          "data": {
            "text/plain": [
              "10"
            ]
          },
          "metadata": {},
          "execution_count": 8
        }
      ]
    }
  ]
}