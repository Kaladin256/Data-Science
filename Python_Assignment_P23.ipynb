{
  "nbformat": 4,
  "nbformat_minor": 0,
  "metadata": {
    "colab": {
      "provenance": [],
      "authorship_tag": "ABX9TyM7MXf6uDDtW0GUfekI4O/H",
      "include_colab_link": true
    },
    "kernelspec": {
      "name": "python3",
      "display_name": "Python 3"
    },
    "language_info": {
      "name": "python"
    }
  },
  "cells": [
    {
      "cell_type": "markdown",
      "metadata": {
        "id": "view-in-github",
        "colab_type": "text"
      },
      "source": [
        "<a href=\"https://colab.research.google.com/github/Kaladin256/Data-Science/blob/main/Python_Assignment_P23.ipynb\" target=\"_parent\"><img src=\"https://colab.research.google.com/assets/colab-badge.svg\" alt=\"Open In Colab\"/></a>"
      ]
    },
    {
      "cell_type": "code",
      "execution_count": 4,
      "metadata": {
        "colab": {
          "base_uri": "https://localhost:8080/"
        },
        "id": "io6fegyIjGk8",
        "outputId": "b9927c81-12f5-49e4-8d1b-60e441e934f5"
      },
      "outputs": [
        {
          "output_type": "execute_result",
          "data": {
            "text/plain": [
              "False"
            ]
          },
          "metadata": {},
          "execution_count": 4
        }
      ],
      "source": [
        "#Question1\n",
        "def is_symmetrical(num):\n",
        "  lst = []\n",
        "  while num > 0:\n",
        "    lst.insert(0, num%10)\n",
        "    num = num//10\n",
        "  for i in range(0, len(lst)//2):\n",
        "    if lst[i] == lst[-(i+1)]:\n",
        "      pass\n",
        "    else:\n",
        "      return False\n",
        "  return True\n",
        "\n",
        "is_symmetrical(12567)"
      ]
    },
    {
      "cell_type": "code",
      "source": [
        "#Question2\n",
        "def multiply_nums(Str):\n",
        "  prod = 1\n",
        "  for i in Str.split(', '):\n",
        "    prod = prod * int(i)\n",
        "  return prod\n",
        "\n",
        "multiply_nums(\"1, 2, 3, 4\")"
      ],
      "metadata": {
        "colab": {
          "base_uri": "https://localhost:8080/"
        },
        "id": "WZvtUtkmnv9r",
        "outputId": "31f43657-e37a-4c9f-9866-1793b2f86429"
      },
      "execution_count": 5,
      "outputs": [
        {
          "output_type": "execute_result",
          "data": {
            "text/plain": [
              "24"
            ]
          },
          "metadata": {},
          "execution_count": 5
        }
      ]
    },
    {
      "cell_type": "code",
      "source": [
        "#Question3\n",
        "def square_digits(num):\n",
        "  lst = []\n",
        "  while num > 0:\n",
        "    lst.insert(0, num%10)\n",
        "    num = num//10\n",
        "  s = ''\n",
        "  for i in lst:\n",
        "    s = s + str(i**2)\n",
        "  return int(s)\n",
        "\n",
        "square_digits(9119)"
      ],
      "metadata": {
        "colab": {
          "base_uri": "https://localhost:8080/"
        },
        "id": "ExtfrLEJoOxq",
        "outputId": "eeab32f6-497f-41d2-b61c-8c880e7a62f3"
      },
      "execution_count": 6,
      "outputs": [
        {
          "output_type": "execute_result",
          "data": {
            "text/plain": [
              "811181"
            ]
          },
          "metadata": {},
          "execution_count": 6
        }
      ]
    },
    {
      "cell_type": "code",
      "source": [
        "#Question4\n",
        "def setify(lst):\n",
        "  res = []\n",
        "  for i in lst:\n",
        "    if i not in res:\n",
        "      res.append(i) \n",
        "  res.sort()\n",
        "  return res\n",
        "\n",
        "setify([1, 3, 3, 5, 5])"
      ],
      "metadata": {
        "colab": {
          "base_uri": "https://localhost:8080/"
        },
        "id": "dks--8OVo_Fy",
        "outputId": "b82dab82-b1fc-485e-fdef-9d90b2a3c191"
      },
      "execution_count": 12,
      "outputs": [
        {
          "output_type": "execute_result",
          "data": {
            "text/plain": [
              "[1, 3, 5]"
            ]
          },
          "metadata": {},
          "execution_count": 12
        }
      ]
    },
    {
      "cell_type": "code",
      "source": [
        "#Question5\n",
        "def mean(num):\n",
        "  lst = []\n",
        "  sum = 0\n",
        "  while num > 0:\n",
        "    lst.insert(0, num%10)\n",
        "    num = num//10\n",
        "  for i in lst:\n",
        "    sum = sum + i\n",
        "  return sum//len(lst)\n",
        "\n",
        "mean(666)\n"
      ],
      "metadata": {
        "colab": {
          "base_uri": "https://localhost:8080/"
        },
        "id": "VjbD_h4LqCw0",
        "outputId": "3e085ded-831b-4d09-cac5-8ed3f0992e5e"
      },
      "execution_count": 13,
      "outputs": [
        {
          "output_type": "execute_result",
          "data": {
            "text/plain": [
              "6"
            ]
          },
          "metadata": {},
          "execution_count": 13
        }
      ]
    }
  ]
}