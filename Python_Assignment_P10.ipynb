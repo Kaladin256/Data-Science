{
  "nbformat": 4,
  "nbformat_minor": 0,
  "metadata": {
    "colab": {
      "provenance": [],
      "authorship_tag": "ABX9TyP+adCEZdIvXqqp+MMgTMPk"
    },
    "kernelspec": {
      "name": "python3",
      "display_name": "Python 3"
    },
    "language_info": {
      "name": "python"
    }
  },
  "cells": [
    {
      "cell_type": "code",
      "execution_count": 1,
      "metadata": {
        "colab": {
          "base_uri": "https://localhost:8080/"
        },
        "id": "TABYTHDf1Rq0",
        "outputId": "d6744330-f38c-4937-a991-4fc2bc78340d"
      },
      "outputs": [
        {
          "output_type": "execute_result",
          "data": {
            "text/plain": [
              "6"
            ]
          },
          "metadata": {},
          "execution_count": 1
        }
      ],
      "source": [
        "#1 Write a Python program to find sum of elements in list?\n",
        "def sum_lst(lst):\n",
        "  sum = 0\n",
        "  for i in lst:\n",
        "    sum = sum + i\n",
        "  return sum\n",
        "\n",
        "sum_lst([1,2,3])"
      ]
    },
    {
      "cell_type": "code",
      "source": [
        "#2 Write a Python program to Multiply all numbers in the list?\n",
        "def prod_lst(lst):\n",
        "  prod = 1\n",
        "  for i in lst:\n",
        "    prod = prod*i\n",
        "  return prod\n",
        "\n",
        "prod_lst([1,2,3])"
      ],
      "metadata": {
        "colab": {
          "base_uri": "https://localhost:8080/"
        },
        "id": "30ijl1vHCgMf",
        "outputId": "df685e81-2fa9-4b76-a955-c366b7c9df88"
      },
      "execution_count": 2,
      "outputs": [
        {
          "output_type": "execute_result",
          "data": {
            "text/plain": [
              "6"
            ]
          },
          "metadata": {},
          "execution_count": 2
        }
      ]
    },
    {
      "cell_type": "code",
      "source": [
        "#3 Write a Python program to find smallest number in a list?\n",
        "def min_lst(lst):\n",
        "  min = lst[0]\n",
        "  for i in lst:\n",
        "    if i<min:\n",
        "      min = i\n",
        "  return min\n",
        "\n",
        "min_lst([1, 2, 3])\n"
      ],
      "metadata": {
        "colab": {
          "base_uri": "https://localhost:8080/"
        },
        "id": "DWJlpcAnCxec",
        "outputId": "70d11307-e692-40e5-e3d0-fe6bd94b3ea2"
      },
      "execution_count": 5,
      "outputs": [
        {
          "output_type": "execute_result",
          "data": {
            "text/plain": [
              "1"
            ]
          },
          "metadata": {},
          "execution_count": 5
        }
      ]
    },
    {
      "cell_type": "code",
      "source": [
        "#4 Write a Python program to find largest number in a list?\n",
        "def max_lst(lst):\n",
        "  max = lst[0]\n",
        "  for i in lst:\n",
        "    if i>max:\n",
        "      max = i\n",
        "  return max\n",
        "\n",
        "max_lst([1, 2, 3])"
      ],
      "metadata": {
        "colab": {
          "base_uri": "https://localhost:8080/"
        },
        "id": "rYDLKtiDDXpM",
        "outputId": "d416ca46-07dd-4a56-dc8b-c550ecab4970"
      },
      "execution_count": 6,
      "outputs": [
        {
          "output_type": "execute_result",
          "data": {
            "text/plain": [
              "3"
            ]
          },
          "metadata": {},
          "execution_count": 6
        }
      ]
    },
    {
      "cell_type": "code",
      "source": [
        "#5 Write a Python program to find second largest number in a list?\n",
        "def max_lst(lst):\n",
        "  max = lst[0]\n",
        "  for i in lst:\n",
        "    if i>max:\n",
        "      max = i\n",
        "  return max\n",
        "\n",
        "def snd_lst(lst):\n",
        "  first = max_lst(lst)\n",
        "  while first in lst:\n",
        "    lst.remove(first)\n",
        "  return max_lst(lst)\n",
        "\n",
        "snd_lst([1, 2, 2, 3])\n",
        "\n"
      ],
      "metadata": {
        "colab": {
          "base_uri": "https://localhost:8080/"
        },
        "id": "6q9CiKtsDpcT",
        "outputId": "95a363bd-db94-4e9b-9262-b5c7ef940a47"
      },
      "execution_count": 8,
      "outputs": [
        {
          "output_type": "execute_result",
          "data": {
            "text/plain": [
              "2"
            ]
          },
          "metadata": {},
          "execution_count": 8
        }
      ]
    },
    {
      "cell_type": "code",
      "source": [
        "#6 Write a Python program to find N largest elements from a list?\n",
        "def max_lst(lst):\n",
        "  max = lst[0]\n",
        "  for i in lst:\n",
        "    if i>max:\n",
        "      max = i\n",
        "  return max\n",
        "\n",
        "def n_largest(lst, n):\n",
        "  set_lst = set(lst)\n",
        "  unique_lst = list(set_lst)\n",
        "  for i in range(0, n-1):\n",
        "    unique_lst.remove(max(unique_lst))\n",
        "  return max(unique_lst)\n",
        "\n",
        "\n",
        "n_largest([1,2,2,2,4, 4, 3, 3, 4], 3)\n",
        " "
      ],
      "metadata": {
        "colab": {
          "base_uri": "https://localhost:8080/"
        },
        "id": "6GZXcD7nHTv2",
        "outputId": "1ad240ed-53ee-44f3-8db0-72d13243457c"
      },
      "execution_count": 13,
      "outputs": [
        {
          "output_type": "execute_result",
          "data": {
            "text/plain": [
              "2"
            ]
          },
          "metadata": {},
          "execution_count": 13
        }
      ]
    },
    {
      "cell_type": "code",
      "source": [
        "#7 Write a Python program to print even numbers in a list?\n",
        "def print_even(lst):\n",
        "  for i in lst:\n",
        "    if i%2 == 0:\n",
        "      print(i, end = ' ')\n",
        "\n",
        "print_even([1, 2, 4, 6, 8])\n"
      ],
      "metadata": {
        "colab": {
          "base_uri": "https://localhost:8080/"
        },
        "id": "WCt5-xw7Kb4y",
        "outputId": "cf328d86-ac53-4982-c958-f7a328f7e0c0"
      },
      "execution_count": 14,
      "outputs": [
        {
          "output_type": "stream",
          "name": "stdout",
          "text": [
            "2 4 6 8 "
          ]
        }
      ]
    },
    {
      "cell_type": "code",
      "source": [
        "#8 Write a Python program to print odd numbers in a List?\n",
        "def print_odd(lst):\n",
        "  for i in lst:\n",
        "    if i%2 != 0:\n",
        "      print(i, end = ' ')\n",
        "\n",
        "print_odd([1, 2, 4, 6, 8])\n"
      ],
      "metadata": {
        "colab": {
          "base_uri": "https://localhost:8080/"
        },
        "id": "kZeGKgprK-ov",
        "outputId": "fd858a6b-696c-4651-e1d0-6abec937b5f4"
      },
      "execution_count": 15,
      "outputs": [
        {
          "output_type": "stream",
          "name": "stdout",
          "text": [
            "1 "
          ]
        }
      ]
    },
    {
      "cell_type": "code",
      "source": [
        "#9 Write a Python program to Remove empty List from List?\n",
        "def remove_empty(lst):\n",
        "  return [x for x in lst if x != []]\n",
        "\n",
        "remove_empty([[], 2, [], 4, 5, []])"
      ],
      "metadata": {
        "colab": {
          "base_uri": "https://localhost:8080/"
        },
        "id": "0PAvQPqFLTLf",
        "outputId": "fc3c5620-e2f4-406c-fd93-8f71c160d90c"
      },
      "execution_count": 16,
      "outputs": [
        {
          "output_type": "execute_result",
          "data": {
            "text/plain": [
              "[2, 4, 5]"
            ]
          },
          "metadata": {},
          "execution_count": 16
        }
      ]
    },
    {
      "cell_type": "code",
      "source": [
        "#10 Write a Python program to Cloning or Copying a list?\n",
        "import copy\n",
        "def copy_lst(lst):\n",
        "  return copy.copy(lst)\n",
        "  \n",
        "copy_lst([1, 2, 3, 4])"
      ],
      "metadata": {
        "colab": {
          "base_uri": "https://localhost:8080/"
        },
        "id": "oD8LrgFHMOyd",
        "outputId": "326cfa8d-2baa-47c4-dec5-e52edef58843"
      },
      "execution_count": 18,
      "outputs": [
        {
          "output_type": "execute_result",
          "data": {
            "text/plain": [
              "[1, 2, 3, 4]"
            ]
          },
          "metadata": {},
          "execution_count": 18
        }
      ]
    },
    {
      "cell_type": "code",
      "source": [
        "#11 Write a Python program to Count occurrences of an element in a list?\n",
        "def occur_elem(lst, elem):\n",
        "  count = 0\n",
        "  for i in lst:\n",
        "    if i == elem:\n",
        "      count = count + 1\n",
        "  return count\n",
        "\n",
        "occur_elem([1, 1, 1, 2, 2, 3], 3)\n"
      ],
      "metadata": {
        "colab": {
          "base_uri": "https://localhost:8080/"
        },
        "id": "iynFXLM-NDVN",
        "outputId": "7e87a695-ec9a-4d96-a51c-0f14bbc23990"
      },
      "execution_count": 20,
      "outputs": [
        {
          "output_type": "execute_result",
          "data": {
            "text/plain": [
              "1"
            ]
          },
          "metadata": {},
          "execution_count": 20
        }
      ]
    }
  ]
}