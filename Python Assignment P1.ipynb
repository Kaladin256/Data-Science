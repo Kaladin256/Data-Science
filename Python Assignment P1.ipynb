{
 "cells": [
  {
   "cell_type": "code",
   "execution_count": 1,
   "id": "9bc6d090",
   "metadata": {},
   "outputs": [
    {
     "name": "stdout",
     "output_type": "stream",
     "text": [
      "Hello Python\n"
     ]
    }
   ],
   "source": [
    "#1 Write a Python program to print \"Hello Python\"\n",
    "print('Hello Python')"
   ]
  },
  {
   "cell_type": "code",
   "execution_count": 6,
   "id": "7ff5caaf",
   "metadata": {},
   "outputs": [
    {
     "name": "stdout",
     "output_type": "stream",
     "text": [
      "Enter value of a: 67.0\n",
      "Enter value of b: 44.1\n",
      "Sum of a and b is 111.1\n",
      "Division of a and b is 1.5192743764172336\n"
     ]
    }
   ],
   "source": [
    "#2 Write a Python program to do arithmetical operations addition and division\n",
    "a = float(input(\"Enter value of a: \"))\n",
    "b = float(input('Enter value of b: '))\n",
    "print(f'Sum of a and b is {a + b}')\n",
    "print(f'Division of a and b is {a/b}')"
   ]
  },
  {
   "cell_type": "code",
   "execution_count": 8,
   "id": "59c614be",
   "metadata": {},
   "outputs": [
    {
     "name": "stdout",
     "output_type": "stream",
     "text": [
      "Enter value of height(in cm): 45\n",
      "Enter value of base(in cm): 23\n",
      "Area of triangle is 517.5 sq cm\n"
     ]
    }
   ],
   "source": [
    "#3 Write a Python program to find the area of a triangle?\n",
    "h = float(input(\"Enter value of height(in cm): \"))\n",
    "b = float(input('Enter value of base(in cm): '))\n",
    "print(f'Area of triangle is {1/2*b*h} sq cm')"
   ]
  },
  {
   "cell_type": "code",
   "execution_count": 12,
   "id": "dcddd43f",
   "metadata": {},
   "outputs": [
    {
     "name": "stdout",
     "output_type": "stream",
     "text": [
      "Enter value of a: fsfF\n",
      "Enter value of b: daDAW\n",
      "Swapped values of a and b are: daDAW, fsfF respectively.\n"
     ]
    }
   ],
   "source": [
    "#4 Write a Python program to swap two variables?\n",
    "a = input(\"Enter value of a: \")\n",
    "b = input('Enter value of b: ')\n",
    "\n",
    "temp = a\n",
    "a = b\n",
    "b = temp\n",
    "print(f'Swapped values of a and b are: {a}, {b} respectively.')"
   ]
  },
  {
   "cell_type": "code",
   "execution_count": 13,
   "id": "e567ced5",
   "metadata": {},
   "outputs": [
    {
     "name": "stdout",
     "output_type": "stream",
     "text": [
      "Generated random number is 0.05303324148183397\n"
     ]
    }
   ],
   "source": [
    "#5 Write a Python program to generate a random number?\n",
    "import random\n",
    "random_number = random.random()\n",
    "print(f'Generated random number is {random_number}')"
   ]
  }
 ],
 "metadata": {
  "kernelspec": {
   "display_name": "Python 3 (ipykernel)",
   "language": "python",
   "name": "python3"
  },
  "language_info": {
   "codemirror_mode": {
    "name": "ipython",
    "version": 3
   },
   "file_extension": ".py",
   "mimetype": "text/x-python",
   "name": "python",
   "nbconvert_exporter": "python",
   "pygments_lexer": "ipython3",
   "version": "3.9.7"
  }
 },
 "nbformat": 4,
 "nbformat_minor": 5
}
