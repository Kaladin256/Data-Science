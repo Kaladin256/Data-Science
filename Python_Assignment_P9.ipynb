{
  "nbformat": 4,
  "nbformat_minor": 0,
  "metadata": {
    "colab": {
      "provenance": [],
      "authorship_tag": "ABX9TyNc6ElD/uJDboHTd4VKKg9p",
      "include_colab_link": true
    },
    "kernelspec": {
      "name": "python3",
      "display_name": "Python 3"
    },
    "language_info": {
      "name": "python"
    }
  },
  "cells": [
    {
      "cell_type": "markdown",
      "metadata": {
        "id": "view-in-github",
        "colab_type": "text"
      },
      "source": [
        "<a href=\"https://colab.research.google.com/github/Kaladin256/Data-Science/blob/main/Python_Assignment_P9.ipynb\" target=\"_parent\"><img src=\"https://colab.research.google.com/assets/colab-badge.svg\" alt=\"Open In Colab\"/></a>"
      ]
    },
    {
      "cell_type": "code",
      "execution_count": 12,
      "metadata": {
        "colab": {
          "base_uri": "https://localhost:8080/"
        },
        "id": "e96q8He8bEdx",
        "outputId": "d80982db-7500-4392-8cb6-0684e3a89b92"
      },
      "outputs": [
        {
          "output_type": "stream",
          "name": "stdout",
          "text": [
            "Enter an integer: 89\n",
            "89 is a Disarim number\n"
          ]
        }
      ],
      "source": [
        "#1 Write a Python program to check if the given number is a Disarium Number?\n",
        "def check_disarium(inp):\n",
        "  n = inp\n",
        "  digits = []\n",
        "  sum = 0\n",
        "  while n>0:\n",
        "    digits.insert(0, n%10)\n",
        "    n = n//10\n",
        "  for i in range(0,len(digits)):\n",
        "    j = i + 1\n",
        "    sum = sum + (digits[i]**j)\n",
        "  if sum == inp:\n",
        "    print(f'{inp} is a Disarim number')\n",
        "  else:\n",
        "    print(f'{inp} is not a Disarium number')\n",
        "\n",
        "Num  = int(input('Enter an integer: '))\n",
        "if Num<0:\n",
        "  print('invalid input')\n",
        "else:\n",
        "  check_disarium(Num)\n",
        "  "
      ]
    },
    {
      "cell_type": "code",
      "source": [
        "#2 Write a Python program to print all disarium numbers between 1 to 100?\n",
        "def check_disarium(inp):\n",
        "  n = inp\n",
        "  digits = []\n",
        "  sum = 0\n",
        "  while n>0:\n",
        "    digits.insert(0, n%10)\n",
        "    n = n//10\n",
        "  for i in range(0,len(digits)):\n",
        "    j = i + 1\n",
        "    sum = sum + (digits[i]**j)\n",
        "  if sum == inp:\n",
        "    return True\n",
        "  else:\n",
        "    return False\n",
        "\n",
        "for i in range(1, 101):\n",
        "  if check_disarium(i):\n",
        "    print(i, end = \" \")"
      ],
      "metadata": {
        "colab": {
          "base_uri": "https://localhost:8080/"
        },
        "id": "WPf4xE9qZa-N",
        "outputId": "b420d56b-c494-4e80-83ec-ac55011084ac"
      },
      "execution_count": 13,
      "outputs": [
        {
          "output_type": "stream",
          "name": "stdout",
          "text": [
            "1 2 3 4 5 6 7 8 9 89 "
          ]
        }
      ]
    },
    {
      "cell_type": "code",
      "source": [
        "#3 Write a Python program to check if the given number is Happy Number?\n",
        "def is_happy(num):\n",
        "  if num == 1:\n",
        "    print(f\"{num} is not a Happy Number\")      \n",
        "    return\n",
        "  n = num\n",
        "  set_sum = {num}\n",
        "  while True:\n",
        "    sum = 0\n",
        "    while n>0:\n",
        "      sum = sum + (n%10)**2\n",
        "      n = n//10\n",
        "    if sum in set_sum:\n",
        "      print(f\"{num} is not a Happy Number\")      \n",
        "      return\n",
        "    elif sum == 1:\n",
        "      print(f'{num} is a Happy Number')\n",
        "      return\n",
        "    else:\n",
        "      n = sum\n",
        "      set_sum.add(sum)\n",
        "\n",
        "inp = int(input('Enter a number: '))\n",
        "if inp<0:\n",
        "  print('invalid input')\n",
        "else:\n",
        "  is_happy(inp)"
      ],
      "metadata": {
        "colab": {
          "base_uri": "https://localhost:8080/"
        },
        "id": "IhAja14Gddpb",
        "outputId": "f9f48028-d036-4b8b-b307-17cc080ac039"
      },
      "execution_count": 28,
      "outputs": [
        {
          "output_type": "stream",
          "name": "stdout",
          "text": [
            "Enter a number: 28\n",
            "28 is a Happy Number\n"
          ]
        }
      ]
    },
    {
      "cell_type": "code",
      "source": [
        "#4 Write a Python program to print all happy numbers between 1 and 100?\n",
        "def is_happy(num):\n",
        "  if num == 1:\n",
        "    return True\n",
        "  n = num\n",
        "  set_sum = {num}\n",
        "  while True:\n",
        "    sum = 0\n",
        "    while n>0:\n",
        "      sum = sum + (n%10)**2\n",
        "      n = n//10\n",
        "    if sum in set_sum:      \n",
        "      return False\n",
        "    elif sum == 1:     \n",
        "      return True\n",
        "    else:\n",
        "      n = sum\n",
        "      set_sum.add(sum)\n",
        "\n",
        "for i in range(1, 101):\n",
        "  if is_happy(i):\n",
        "    print(i, end=' ')"
      ],
      "metadata": {
        "colab": {
          "base_uri": "https://localhost:8080/"
        },
        "id": "VkYXpLEBi8hi",
        "outputId": "b8bdbbac-84f2-4248-97b3-1af4184b091d"
      },
      "execution_count": 30,
      "outputs": [
        {
          "output_type": "stream",
          "name": "stdout",
          "text": [
            "1 7 10 13 19 23 28 31 32 44 49 68 70 79 82 86 91 94 97 100 "
          ]
        }
      ]
    },
    {
      "cell_type": "code",
      "source": [
        "#5 Write a Python program to determine whether the given number is a Harshad Number?\n",
        "def is_harshad(num):\n",
        "  n = num\n",
        "  sum = 0\n",
        "  while n>0:\n",
        "    sum = sum + n%10\n",
        "    n = n//10\n",
        "  if num%sum == 0:\n",
        "    return True\n",
        "  else:\n",
        "    return False\n",
        "\n",
        "inp = int(input('Enter a number: '))\n",
        "if inp <= 0:\n",
        "  print('Invalid input')\n",
        "elif is_harshad(inp):\n",
        "  print(f'{inp} is a Harshad number')\n",
        "else:\n",
        "  print(f'{inp} is not a Harshad number')"
      ],
      "metadata": {
        "colab": {
          "base_uri": "https://localhost:8080/"
        },
        "id": "oibsMjFQmIft",
        "outputId": "1592feea-c371-44aa-9d10-487303aa6862"
      },
      "execution_count": 31,
      "outputs": [
        {
          "output_type": "stream",
          "name": "stdout",
          "text": [
            "Enter a number: 2022\n",
            "2022 is a Harshad number\n"
          ]
        }
      ]
    },
    {
      "cell_type": "code",
      "source": [
        "#6 Write a Python program to print all pronic numbers between 1 and 100?\n",
        "i = 2\n",
        "j = 1\n",
        "while i*j<=100:\n",
        "  print(i*j, end=' ')\n",
        "  i +=1\n",
        "  j +=1 "
      ],
      "metadata": {
        "colab": {
          "base_uri": "https://localhost:8080/"
        },
        "id": "BO5tTH51mAKg",
        "outputId": "c0d9fb96-7ae1-44e9-c4e0-2268081562fb"
      },
      "execution_count": 32,
      "outputs": [
        {
          "output_type": "stream",
          "name": "stdout",
          "text": [
            "2 6 12 20 30 42 56 72 90 "
          ]
        }
      ]
    }
  ]
}