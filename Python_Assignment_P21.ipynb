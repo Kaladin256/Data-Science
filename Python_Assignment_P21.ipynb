{
  "nbformat": 4,
  "nbformat_minor": 0,
  "metadata": {
    "colab": {
      "provenance": [],
      "authorship_tag": "ABX9TyNm9qhpUOpviM8gGUX2xXHt"
    },
    "kernelspec": {
      "name": "python3",
      "display_name": "Python 3"
    },
    "language_info": {
      "name": "python"
    }
  },
  "cells": [
    {
      "cell_type": "code",
      "execution_count": 1,
      "metadata": {
        "colab": {
          "base_uri": "https://localhost:8080/"
        },
        "id": "Mlf3mf-GVoYq",
        "outputId": "e77acdfd-6867-41e1-cb4e-c309c104cd99"
      },
      "outputs": [
        {
          "output_type": "execute_result",
          "data": {
            "text/plain": [
              "[2, 3, 4, 5, 6]"
            ]
          },
          "metadata": {},
          "execution_count": 1
        }
      ],
      "source": [
        "#Question1\n",
        "def next_in_line(lst, x):\n",
        "  lst.append(x)\n",
        "  lst.pop(0)\n",
        "  return lst\n",
        "\n",
        "next_in_line([1,2,3,4,5], 6)"
      ]
    },
    {
      "cell_type": "code",
      "source": [
        "#Question2\n",
        "def get_budget(lst):\n",
        "  sum = 0\n",
        "  for i in lst:\n",
        "    sum = sum + i['budget']\n",
        "  return sum\n",
        "\n",
        "get_budget([{ \"name\": \"John\", \"age\": 21, \"budget\": 23000 },\n",
        "  { \"name\": \"Steve\",  \"age\": 32, \"budget\": 40000 },\n",
        "  { \"name\": \"Martin\",  \"age\": 16, \"budget\": 2700 }\n",
        "])"
      ],
      "metadata": {
        "colab": {
          "base_uri": "https://localhost:8080/"
        },
        "id": "cQWMCDZxWVrr",
        "outputId": "e73330cc-fdaf-4259-9dc8-93c976ee00d1"
      },
      "execution_count": 2,
      "outputs": [
        {
          "output_type": "execute_result",
          "data": {
            "text/plain": [
              "65700"
            ]
          },
          "metadata": {},
          "execution_count": 2
        }
      ]
    },
    {
      "cell_type": "code",
      "source": [
        "#Question3\n",
        "def alphabet_soup(Str):\n",
        "  lst = list(Str)\n",
        "  Str = ''\n",
        "  lst.sort()\n",
        "  for i in lst:\n",
        "    Str = Str + i\n",
        "  return Str\n",
        "\n",
        "alphabet_soup('hello')  "
      ],
      "metadata": {
        "colab": {
          "base_uri": "https://localhost:8080/",
          "height": 35
        },
        "id": "b07wuDAmXJQc",
        "outputId": "3cc9b366-78d5-4b56-cac3-a3311cf40453"
      },
      "execution_count": 11,
      "outputs": [
        {
          "output_type": "execute_result",
          "data": {
            "text/plain": [
              "'ehllo'"
            ],
            "application/vnd.google.colaboratory.intrinsic+json": {
              "type": "string"
            }
          },
          "metadata": {},
          "execution_count": 11
        }
      ]
    },
    {
      "cell_type": "code",
      "source": [
        "#Question4\n",
        "def compound_interest(p, t, r, n):\n",
        "  return round(p*((1 + r)**(t*n)), 2)\n",
        "\n",
        "compound_interest(100, 1, 0.05, 1)"
      ],
      "metadata": {
        "colab": {
          "base_uri": "https://localhost:8080/"
        },
        "id": "-c_HxbjEYzQA",
        "outputId": "451d7a78-51fb-4a86-8f6d-6874051996a7"
      },
      "execution_count": 15,
      "outputs": [
        {
          "output_type": "execute_result",
          "data": {
            "text/plain": [
              "105.0"
            ]
          },
          "metadata": {},
          "execution_count": 15
        }
      ]
    },
    {
      "cell_type": "code",
      "source": [
        "#Question5\n",
        "def return_only_integer(lst):\n",
        "  return [x for x in lst if type(x)==int]\n",
        "\n",
        "return_only_integer([9, 2, \"space\", \"car\", \"lion\", 16])"
      ],
      "metadata": {
        "colab": {
          "base_uri": "https://localhost:8080/"
        },
        "id": "3PAKY0I-Z02j",
        "outputId": "4e9026c1-a5dd-45af-a9fa-f03e9939cdc5"
      },
      "execution_count": 16,
      "outputs": [
        {
          "output_type": "execute_result",
          "data": {
            "text/plain": [
              "[9, 2, 16]"
            ]
          },
          "metadata": {},
          "execution_count": 16
        }
      ]
    }
  ]
}