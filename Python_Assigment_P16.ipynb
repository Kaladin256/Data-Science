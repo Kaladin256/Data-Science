{
  "nbformat": 4,
  "nbformat_minor": 0,
  "metadata": {
    "colab": {
      "provenance": [],
      "authorship_tag": "ABX9TyMdz3hhi9pwhgsMcwXTRPqD"
    },
    "kernelspec": {
      "name": "python3",
      "display_name": "Python 3"
    },
    "language_info": {
      "name": "python"
    }
  },
  "cells": [
    {
      "cell_type": "code",
      "execution_count": 3,
      "metadata": {
        "colab": {
          "base_uri": "https://localhost:8080/",
          "height": 35
        },
        "id": "ozgsnykYL2DP",
        "outputId": "87185f1b-90fe-46ff-e864-da5ed4574455"
      },
      "outputs": [
        {
          "output_type": "execute_result",
          "data": {
            "text/plain": [
              "'hi... hi... hi?'"
            ],
            "application/vnd.google.colaboratory.intrinsic+json": {
              "type": "string"
            }
          },
          "metadata": {},
          "execution_count": 3
        }
      ],
      "source": [
        "#Question1\n",
        "def stutter(word):\n",
        "  return ((word[:2] + '... ')*2) + word + '?'\n",
        "\n",
        "stutter('hi')"
      ]
    },
    {
      "cell_type": "code",
      "source": [
        "#Question2\n",
        "import math\n",
        "def radians_to_degrees(rad):\n",
        "  return round(rad*180/math.pi, 1)\n",
        "\n",
        "radians_to_degrees(3)"
      ],
      "metadata": {
        "colab": {
          "base_uri": "https://localhost:8080/"
        },
        "id": "T_Nlw58_N3Y4",
        "outputId": "5d55e851-5547-4716-bf3b-175bdee8b772"
      },
      "execution_count": 11,
      "outputs": [
        {
          "output_type": "execute_result",
          "data": {
            "text/plain": [
              "171.9"
            ]
          },
          "metadata": {},
          "execution_count": 11
        }
      ]
    },
    {
      "cell_type": "code",
      "source": [
        "#Question3\n",
        "def is_curzon(num):\n",
        "  a = 2**(num) + 1\n",
        "  b = 2*num + 1\n",
        "  if a%b == 0:\n",
        "    return True\n",
        "  else:\n",
        "    return False\n",
        "\n",
        "is_curzon(5)    "
      ],
      "metadata": {
        "colab": {
          "base_uri": "https://localhost:8080/"
        },
        "id": "CSVWV8RxNjDk",
        "outputId": "70c11314-c61f-45cb-e76b-719aecf67700"
      },
      "execution_count": 8,
      "outputs": [
        {
          "output_type": "execute_result",
          "data": {
            "text/plain": [
              "True"
            ]
          },
          "metadata": {},
          "execution_count": 8
        }
      ]
    },
    {
      "cell_type": "code",
      "source": [
        "#Question4\n",
        "def area_of_hexagon(s):\n",
        "  return round(3**(3/2) * s**2 / 2, 1)\n",
        "\n",
        "area_of_hexagon(1)"
      ],
      "metadata": {
        "colab": {
          "base_uri": "https://localhost:8080/"
        },
        "id": "DzNrLkAhPx-H",
        "outputId": "f80a94f7-4e2d-4c0b-ed67-d24ee7d93b91"
      },
      "execution_count": 12,
      "outputs": [
        {
          "output_type": "execute_result",
          "data": {
            "text/plain": [
              "2.6"
            ]
          },
          "metadata": {},
          "execution_count": 12
        }
      ]
    },
    {
      "cell_type": "code",
      "source": [
        "#Question5\n",
        "def binary(l):\n",
        "  s = ''\n",
        "  while l>0:\n",
        "    s = str(l%2) + s\n",
        "    l = l//2\n",
        "  return s\n",
        "\n",
        "binary(5)  "
      ],
      "metadata": {
        "colab": {
          "base_uri": "https://localhost:8080/",
          "height": 35
        },
        "id": "1_DZhC5cQ5Me",
        "outputId": "58736e3d-54e4-4087-af5e-eda4c3e83c6e"
      },
      "execution_count": 16,
      "outputs": [
        {
          "output_type": "execute_result",
          "data": {
            "text/plain": [
              "'101'"
            ],
            "application/vnd.google.colaboratory.intrinsic+json": {
              "type": "string"
            }
          },
          "metadata": {},
          "execution_count": 16
        }
      ]
    }
  ]
}