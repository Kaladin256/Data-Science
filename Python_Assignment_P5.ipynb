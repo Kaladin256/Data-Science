{
  "nbformat": 4,
  "nbformat_minor": 0,
  "metadata": {
    "colab": {
      "provenance": [],
      "authorship_tag": "ABX9TyOgAdJjUsg2GgfqcC9wyAhv",
      "include_colab_link": true
    },
    "kernelspec": {
      "name": "python3",
      "display_name": "Python 3"
    },
    "language_info": {
      "name": "python"
    }
  },
  "cells": [
    {
      "cell_type": "markdown",
      "metadata": {
        "id": "view-in-github",
        "colab_type": "text"
      },
      "source": [
        "<a href=\"https://colab.research.google.com/github/Kaladin256/Data-Science/blob/main/Python_Assignment_P5.ipynb\" target=\"_parent\"><img src=\"https://colab.research.google.com/assets/colab-badge.svg\" alt=\"Open In Colab\"/></a>"
      ]
    },
    {
      "cell_type": "code",
      "execution_count": 4,
      "metadata": {
        "colab": {
          "base_uri": "https://localhost:8080/"
        },
        "id": "BueA3UqrfbyE",
        "outputId": "8658b4ab-46b1-472a-a069-02cf5d22d4f7"
      },
      "outputs": [
        {
          "output_type": "stream",
          "name": "stdout",
          "text": [
            "Enter first number: 8\n",
            "Enter second number: 6\n",
            "LCM of 8 and 6 is 24\n"
          ]
        }
      ],
      "source": [
        "#1 Write a Python Program to Find LCM?\n",
        "a = int(input('Enter first number: '))\n",
        "b = int(input('Enter second number: '))\n",
        "\n",
        "if a == 0 or b == 0:\n",
        "  print(f'LCM of {a} and {b} is 0')\n",
        "  \n",
        "else:\n",
        "  i = max(a, b)\n",
        "  while True:\n",
        "    if i%a == 0 and i%b == 0:\n",
        "      print(f'LCM of {a} and {b} is {i}')\n",
        "      break\n",
        "    else:\n",
        "      i = i + 1\n",
        "  "
      ]
    },
    {
      "cell_type": "code",
      "source": [
        "#2 Write a Python Program to Find HCF?\n",
        "a = int(input('Enter first number: '))\n",
        "b = int(input('Enter second number: '))\n",
        "\n",
        "if a == 0 or b == 0:\n",
        "  print(f'HCF of {a} and {b} is {max(a, b)}')\n",
        "  \n",
        "else:\n",
        "  i = min(a, b)\n",
        "  while i>0:\n",
        "    if a%i == 0 and b%i==0:\n",
        "      print(f'HCF of {a} and {b} is {i}')\n",
        "      break\n",
        "    else:\n",
        "      i = i - 1\n",
        "      "
      ],
      "metadata": {
        "colab": {
          "base_uri": "https://localhost:8080/"
        },
        "id": "coosYDKUiUil",
        "outputId": "fe13f1ef-5556-419b-b5c3-1532e272287d"
      },
      "execution_count": 6,
      "outputs": [
        {
          "output_type": "stream",
          "name": "stdout",
          "text": [
            "Enter first number: 0\n",
            "Enter second number: 5\n",
            "HCF of 0 and 5 is 5\n"
          ]
        }
      ]
    },
    {
      "cell_type": "code",
      "source": [
        "#3 Write a Python Program to Convert Decimal to Binary, Octal and Hexadecimal?\n",
        "def deci_to_binary(n):\n",
        "  binary = []\n",
        "  while n>0:\n",
        "    binary.insert(0, n%2)\n",
        "    n = int(n/2)\n",
        "  print('Binary: ', end='')\n",
        "  for i in binary:\n",
        "    print(i, end = ' ')\n",
        "\n",
        "def deci_to_oct(n):\n",
        "  oct = []  \n",
        "  while n>0:\n",
        "    oct.insert(0, n%8)\n",
        "    n = int(n/8)\n",
        "  print('Octal: ', end='')\n",
        "  for i in oct:\n",
        "    print(i, end = ' ')    \n",
        "\n",
        "def deci_to_hex(n):\n",
        "  hex = []\n",
        "  codes = ('A','B','C','D', 'E', 'F')\n",
        "  while n>0:\n",
        "    hex.insert(0, n%16)\n",
        "    n = int(n/16)\n",
        "  \n",
        "  print('Hexadecimal: ', end='')\n",
        "  for i in hex:\n",
        "    if i > 9:\n",
        "      print(codes[i-10], end = ' ')\n",
        "    else:\n",
        "      print(i, end = ' ')\n",
        "\n",
        "d = int(input('Enter a decimal: '))\n",
        "\n",
        "deci_to_binary(d)\n",
        "print('\\n')\n",
        "deci_to_oct(d)\n",
        "print('\\n')\n",
        "deci_to_hex(d)\n",
        "\n"
      ],
      "metadata": {
        "colab": {
          "base_uri": "https://localhost:8080/"
        },
        "id": "5xzmfLtz0Xf5",
        "outputId": "6d61f935-f9be-46d1-bcab-949172cabc9b"
      },
      "execution_count": 17,
      "outputs": [
        {
          "output_type": "stream",
          "name": "stdout",
          "text": [
            "Enter a decimal: 30\n",
            "Binary: 1 1 1 1 0 \n",
            "\n",
            "Octal: 3 6 \n",
            "\n",
            "Hexadecimal: 1 E "
          ]
        }
      ]
    },
    {
      "cell_type": "code",
      "source": [
        "#4 Write a Python Program To Find ASCII value of a character?\n",
        "inp = input('Enter a character: ')\n",
        "if len(inp)>1:\n",
        "  print('Invalid input')\n",
        "else:\n",
        "  print(f'ASCII value of {inp} is {ord(inp)}')"
      ],
      "metadata": {
        "colab": {
          "base_uri": "https://localhost:8080/"
        },
        "id": "gFnyWhQTGNw3",
        "outputId": "dba26b06-784f-42ac-dac6-32e123ed667e"
      },
      "execution_count": 22,
      "outputs": [
        {
          "output_type": "stream",
          "name": "stdout",
          "text": [
            "Enter a character: r\n",
            "ASCII value of r is 114\n"
          ]
        }
      ]
    },
    {
      "cell_type": "code",
      "source": [
        "#5 Write a Python Program to Make a Simple Calculator with 4 basic mathematical operations?\n",
        "def add():\n",
        "  a = float(input('a = '))\n",
        "  b = float(input('b = '))\n",
        "  print('a + b = '+ str(a+b))\n",
        "def sub():\n",
        "  a = float(input('a = '))\n",
        "  b = float(input('b = '))\n",
        "  print('a - b = '+ str(a-b))\n",
        "def mul():\n",
        "  a = float(input('a = '))\n",
        "  b = float(input('b = '))\n",
        "  print('a x b = '+ str(a*b))\n",
        "def div():\n",
        "  a = float(input('a = '))\n",
        "  b = float(input('b = '))\n",
        "  if a == 0 and b == 0:\n",
        "    print('Undefined')\n",
        "  elif b == 0:\n",
        "    print('a/b = infinity')\n",
        "  else:\n",
        "   print('a/b = '+ str(a/b))\n",
        "func = int(input(\"\"\"\n",
        "Press 1 or 2 or 3 or 4 to select one of the following operations \n",
        "1. Add\n",
        "2. Subtract\n",
        "3. Multiply\n",
        "4. Divide\n",
        " \"\"\"))\n",
        "if func == 1:\n",
        "  add()\n",
        "elif func == 2:\n",
        "  sub()\n",
        "elif func == 3:\n",
        "  mul()\n",
        "elif func == 4:\n",
        "  div()\n",
        "else:\n",
        "  print('invalid operation')"
      ],
      "metadata": {
        "colab": {
          "base_uri": "https://localhost:8080/"
        },
        "id": "OH14rwpbP5M4",
        "outputId": "9b70b45b-8577-4b85-b14f-d32a8855ad01"
      },
      "execution_count": 27,
      "outputs": [
        {
          "output_type": "stream",
          "name": "stdout",
          "text": [
            "\n",
            "Press 1 or 2 or 3 or 4 to select one of the following operations \n",
            "1. Add\n",
            "2. Subtract\n",
            "3. Multiply\n",
            "4. Divide\n",
            " 4\n",
            "a = 0\n",
            "b = 0\n",
            "Undefined\n"
          ]
        }
      ]
    }
  ]
}