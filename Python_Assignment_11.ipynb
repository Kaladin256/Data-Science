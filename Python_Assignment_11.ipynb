{
  "nbformat": 4,
  "nbformat_minor": 0,
  "metadata": {
    "colab": {
      "provenance": [],
      "collapsed_sections": [],
      "authorship_tag": "ABX9TyNYFcBlFmW1ErWQihMKXkp5"
    },
    "kernelspec": {
      "name": "python3",
      "display_name": "Python 3"
    },
    "language_info": {
      "name": "python"
    }
  },
  "cells": [
    {
      "cell_type": "code",
      "execution_count": null,
      "metadata": {
        "id": "0MJHLjiE5kEg",
        "colab": {
          "base_uri": "https://localhost:8080/"
        },
        "outputId": "29249dd1-b38f-4d78-a2c1-fb7a55bcc43a"
      },
      "outputs": [
        {
          "output_type": "execute_result",
          "data": {
            "text/plain": [
              "['fight', 'Might']"
            ]
          },
          "metadata": {},
          "execution_count": 2
        }
      ],
      "source": [
        "#1 Write a Python program to find words which are greater than given length k?\n",
        "def is_length(lst, k):\n",
        "  return [x for x in lst if len(x)>k]\n",
        "\n",
        "is_length(['cat','fight','Might', 'food'],4)"
      ]
    },
    {
      "cell_type": "code",
      "source": [
        "#2 Write a Python program for removing i-th character from a string?\n",
        "#Assuming that i is the position of the character and not index\n",
        "def rem_ith(Str, i):\n",
        "  Str1 = Str[:i-1]#Assuming that i is the position of the character and not index\n",
        "  Str2 = Str[i:]\n",
        "  return Str1 + Str2\n",
        "\n",
        "rem_ith('Remove i',8) #Removing i in the given string"
      ],
      "metadata": {
        "colab": {
          "base_uri": "https://localhost:8080/",
          "height": 35
        },
        "id": "QhL26ieVSAV2",
        "outputId": "db0221d7-0ecf-4146-e57d-68b4ac3c389c"
      },
      "execution_count": null,
      "outputs": [
        {
          "output_type": "execute_result",
          "data": {
            "text/plain": [
              "'Remove '"
            ],
            "application/vnd.google.colaboratory.intrinsic+json": {
              "type": "string"
            }
          },
          "metadata": {},
          "execution_count": 4
        }
      ]
    },
    {
      "cell_type": "code",
      "source": [
        "#3 Write a Python program to split and join a string?\n",
        "string = 'I submitted four assignments'\n",
        "lst = string.split(' ')\n",
        "new_string ='-'.join(lst)\n",
        "print(new_string)"
      ],
      "metadata": {
        "colab": {
          "base_uri": "https://localhost:8080/"
        },
        "id": "_GodhiYgT2og",
        "outputId": "80ff5979-840d-4b7f-c2c4-e3d40cafc695"
      },
      "execution_count": null,
      "outputs": [
        {
          "output_type": "stream",
          "name": "stdout",
          "text": [
            "I-submitted-four-assignments\n"
          ]
        }
      ]
    },
    {
      "cell_type": "code",
      "source": [
        "#4 Write a Python to check if a given string is binary string or not?\n",
        "def is_binary(Str):\n",
        "  for i in Str:\n",
        "    if i not in {'0', '1'}:\n",
        "      return False\n",
        "  return True\n",
        "Str = input('Enter a string: ')\n",
        "\n",
        "if is_binary(Str):\n",
        "  print('Input string is binary')\n",
        "else:\n",
        "  print('Input string is not binary')\n",
        "\n",
        "  "
      ],
      "metadata": {
        "colab": {
          "base_uri": "https://localhost:8080/"
        },
        "id": "8VCbjeCbdKTk",
        "outputId": "512805aa-4a18-4c1b-ec2c-89887a4945f8"
      },
      "execution_count": null,
      "outputs": [
        {
          "output_type": "stream",
          "name": "stdout",
          "text": [
            "Enter a string: fearhreerhew5e\n",
            "Input string is not binary\n"
          ]
        }
      ]
    },
    {
      "cell_type": "code",
      "source": [
        "#5 Write a Python program to find uncommon words from two Strings? \n",
        "#Did not consider punctuation marks for this problem\n",
        "def uncommon_words(str1, str2):\n",
        "  lst1 = str1.split(' ')\n",
        "  lst2 = str2.split(' ')\n",
        "  result = []\n",
        "  for i in lst1:\n",
        "    if i not in lst2:\n",
        "      result.append(i)\n",
        "  for i in lst2:\n",
        "    if i not in lst1:\n",
        "      result.append(i)\n",
        "  return result\n",
        "\n",
        "uncommon_words('I I I vvvv ooo', 'I I ooo ooo www')  \n",
        "    \n"
      ],
      "metadata": {
        "colab": {
          "base_uri": "https://localhost:8080/"
        },
        "id": "R1pzyuspnvWM",
        "outputId": "155195b0-a594-4ba5-83d4-b2bf9caef01a"
      },
      "execution_count": null,
      "outputs": [
        {
          "output_type": "execute_result",
          "data": {
            "text/plain": [
              "['vvvv', 'www']"
            ]
          },
          "metadata": {},
          "execution_count": 16
        }
      ]
    },
    {
      "cell_type": "code",
      "source": [
        "#6 Write a Python to find all duplicate characters in string?\n",
        "def dup_char(Str):\n",
        "  dict_char = {}\n",
        "  for i in Str:\n",
        "    dict_char[i] = dict_char.get(i, 0) + 1\n",
        "  return [x for x in dict_char.keys() if dict_char[x]>1]\n",
        "\n",
        "dup_char('I know python')"
      ],
      "metadata": {
        "colab": {
          "base_uri": "https://localhost:8080/"
        },
        "id": "MsgRtZohohT-",
        "outputId": "653470e1-0e9a-4cb5-b1d2-068d0513fc04"
      },
      "execution_count": null,
      "outputs": [
        {
          "output_type": "execute_result",
          "data": {
            "text/plain": [
              "[' ', 'n', 'o']"
            ]
          },
          "metadata": {},
          "execution_count": 18
        }
      ]
    },
    {
      "cell_type": "code",
      "source": [
        "#7 Write a Python Program to check if a string contains any special character?\n",
        "inp = input('Enter a string: ')\n",
        "if inp.isalnum():\n",
        "  print('Input string does not contain special characters')\n",
        "else:\n",
        "  print('Input string contains special characters')"
      ],
      "metadata": {
        "id": "vzmWTGjmuLA3",
        "colab": {
          "base_uri": "https://localhost:8080/"
        },
        "outputId": "08fa3225-359e-4581-f858-e3d95e1574de"
      },
      "execution_count": 2,
      "outputs": [
        {
          "output_type": "stream",
          "name": "stdout",
          "text": [
            "Enter a string: fhthjtjywjefrhujr\n",
            "Input string does not contain special characters\n"
          ]
        }
      ]
    }
  ]
}