{
  "nbformat": 4,
  "nbformat_minor": 0,
  "metadata": {
    "colab": {
      "provenance": [],
      "authorship_tag": "ABX9TyOr5m3KdVglYZT7JnXQqLsm"
    },
    "kernelspec": {
      "name": "python3",
      "display_name": "Python 3"
    },
    "language_info": {
      "name": "python"
    }
  },
  "cells": [
    {
      "cell_type": "code",
      "execution_count": 1,
      "metadata": {
        "colab": {
          "base_uri": "https://localhost:8080/",
          "height": 35
        },
        "id": "3uBPgGNRgPs0",
        "outputId": "9ed78d80-a6e7-4694-b206-ee2c4561b7ed"
      },
      "outputs": [
        {
          "output_type": "execute_result",
          "data": {
            "text/plain": [
              "'aabbcc'"
            ],
            "application/vnd.google.colaboratory.intrinsic+json": {
              "type": "string"
            }
          },
          "metadata": {},
          "execution_count": 1
        }
      ],
      "source": [
        "#Question 1\n",
        "def double_char(Str):\n",
        "  lst = list(Str)\n",
        "  s = ''\n",
        "  for i in lst:\n",
        "    s = s + i*2\n",
        "  return s\n",
        "\n",
        "double_char('abc')\n",
        "    "
      ]
    },
    {
      "cell_type": "code",
      "source": [
        "#Question 2\n",
        "def reverse(Bool):\n",
        "  if type(Bool) == bool:\n",
        "    return not Bool\n",
        "  else:\n",
        "    return 'boolean expected'\n",
        "\n",
        "reverse(1)\n",
        "  "
      ],
      "metadata": {
        "colab": {
          "base_uri": "https://localhost:8080/",
          "height": 35
        },
        "id": "HiGuOdFwlP3Q",
        "outputId": "bcdcffa8-35f0-4bfd-d236-80c4d4b8c432"
      },
      "execution_count": 4,
      "outputs": [
        {
          "output_type": "execute_result",
          "data": {
            "text/plain": [
              "'boolean expected'"
            ],
            "application/vnd.google.colaboratory.intrinsic+json": {
              "type": "string"
            }
          },
          "metadata": {},
          "execution_count": 4
        }
      ]
    },
    {
      "cell_type": "code",
      "source": [
        "#Question 3\n",
        "def num_layers(num):\n",
        "  return str((2**num)*0.5/1000)+'m'\n",
        "\n",
        "num_layers(21)  "
      ],
      "metadata": {
        "colab": {
          "base_uri": "https://localhost:8080/",
          "height": 35
        },
        "id": "kj6KcDkM91eZ",
        "outputId": "886f92bc-ce9e-4e84-e029-3cf4264a5c28"
      },
      "execution_count": 6,
      "outputs": [
        {
          "output_type": "execute_result",
          "data": {
            "text/plain": [
              "'1048.576m'"
            ],
            "application/vnd.google.colaboratory.intrinsic+json": {
              "type": "string"
            }
          },
          "metadata": {},
          "execution_count": 6
        }
      ]
    },
    {
      "cell_type": "code",
      "source": [
        "#Question 4\n",
        "def index_of_caps(Str):\n",
        "  result = []\n",
        "  for i in range(0,len(Str)):\n",
        "    if Str[i].isupper():\n",
        "      result.append(i)\n",
        "  return result\n",
        "\n",
        "index_of_caps('aAfsgrH')"
      ],
      "metadata": {
        "colab": {
          "base_uri": "https://localhost:8080/"
        },
        "id": "gTncwAeu-yXs",
        "outputId": "cfcd28bf-6bc4-4546-e012-df7a2155be54"
      },
      "execution_count": 8,
      "outputs": [
        {
          "output_type": "execute_result",
          "data": {
            "text/plain": [
              "[1, 6]"
            ]
          },
          "metadata": {},
          "execution_count": 8
        }
      ]
    },
    {
      "cell_type": "code",
      "source": [
        "#Question 5\n",
        "def find_even_nums(num):\n",
        "  return [x for x in range(1, num+1) if x%2 == 0]\n",
        "\n",
        "find_even_nums(5)"
      ],
      "metadata": {
        "colab": {
          "base_uri": "https://localhost:8080/"
        },
        "id": "waeyVB7z_ngp",
        "outputId": "8fff8d76-7aae-44ae-c54f-9a332a6421d9"
      },
      "execution_count": 11,
      "outputs": [
        {
          "output_type": "execute_result",
          "data": {
            "text/plain": [
              "[2, 4]"
            ]
          },
          "metadata": {},
          "execution_count": 11
        }
      ]
    }
  ]
}