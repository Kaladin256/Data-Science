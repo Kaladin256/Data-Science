{
  "nbformat": 4,
  "nbformat_minor": 0,
  "metadata": {
    "colab": {
      "provenance": [],
      "authorship_tag": "ABX9TyPR4ulSuiXCtVcioppwVAQZ",
      "include_colab_link": true
    },
    "kernelspec": {
      "name": "python3",
      "display_name": "Python 3"
    },
    "language_info": {
      "name": "python"
    }
  },
  "cells": [
    {
      "cell_type": "markdown",
      "metadata": {
        "id": "view-in-github",
        "colab_type": "text"
      },
      "source": [
        "<a href=\"https://colab.research.google.com/github/Kaladin256/Data-Science/blob/main/Python_Assignment_P4.ipynb\" target=\"_parent\"><img src=\"https://colab.research.google.com/assets/colab-badge.svg\" alt=\"Open In Colab\"/></a>"
      ]
    },
    {
      "cell_type": "code",
      "execution_count": 2,
      "metadata": {
        "colab": {
          "base_uri": "https://localhost:8080/"
        },
        "id": "VdiBG42qKLEq",
        "outputId": "cbc63431-6280-4eed-ed94-0b6be513dc13"
      },
      "outputs": [
        {
          "output_type": "stream",
          "name": "stdout",
          "text": [
            "Enter an integer: 5\n",
            "The factorial of 5 is 120\n"
          ]
        }
      ],
      "source": [
        "#1 Write a Python Program to Find the Factorial of a Number?\n",
        "n = int(input('Enter an integer: '))\n",
        "fact = 1\n",
        "for i in range (1, n+1):\n",
        "  fact = fact * i\n",
        "print(f'The factorial of {n} is {fact}')"
      ]
    },
    {
      "cell_type": "code",
      "source": [
        "#2 Write a Python Program to Display the multiplication Table?\n",
        "n = int(input('Enter an integer: '))\n",
        "for i in range(1, 21):\n",
        "  print(f'{n} x {i} = {n*i}')"
      ],
      "metadata": {
        "id": "p3s0Ov5UMZFz"
      },
      "execution_count": null,
      "outputs": []
    },
    {
      "cell_type": "code",
      "source": [
        "#3 Write a Python Program to Print the Fibonacci sequence?\n",
        "n = int(input('Enter an integer: '))\n",
        "j, i = 0, 1\n",
        "while j<=n :\n",
        "  print(j, end = ' ')\n",
        "  temp = j\n",
        "  j = i + j\n",
        "  i = temp\n",
        "  "
      ],
      "metadata": {
        "colab": {
          "base_uri": "https://localhost:8080/"
        },
        "id": "XTNhMQMoNHKH",
        "outputId": "c55e7a6e-886e-4863-d6c7-fb8efb1ce776"
      },
      "execution_count": 7,
      "outputs": [
        {
          "output_type": "stream",
          "name": "stdout",
          "text": [
            "Enter an integer: 6\n",
            "0 1 1 2 3 5 "
          ]
        }
      ]
    },
    {
      "cell_type": "code",
      "source": [
        "#4 Write a Python Program to Check Armstrong Number?\n",
        "n = int(input('Enter an integer: '))\n",
        "if n == 0:\n",
        "  print('0 is an Armstrong Number')\n",
        "else:\n",
        "  sum = 0\n",
        "  i = n\n",
        "  while i>0:\n",
        "    temp = i%10\n",
        "    sum = sum + temp*temp*temp\n",
        "    i = int(i/10)\n",
        "  if sum == n:\n",
        "    print(f'{n} is an Armstrong Number')\n",
        "  else:\n",
        "    print(f'{n} is not an Armstrong Number')\n",
        "    "
      ],
      "metadata": {
        "colab": {
          "base_uri": "https://localhost:8080/"
        },
        "id": "l7_JONU6Pjf1",
        "outputId": "25c22743-a792-4f53-eff6-71f7ab7317f1"
      },
      "execution_count": 17,
      "outputs": [
        {
          "output_type": "stream",
          "name": "stdout",
          "text": [
            "Enter an integer: 153\n",
            "153 is an Armstrong Number\n"
          ]
        }
      ]
    },
    {
      "cell_type": "code",
      "source": [
        "#5 Write a Python Program to Find Armstrong Number in an Interval?\n",
        "l = int(input('Enter lower limit: '))\n",
        "u = int(input('Enter upper limit: '))\n",
        "if l>u:\n",
        "  print('Invalid limits')\n",
        "  pass\n",
        "count = 0\n",
        "for n in range (l, u+1):\n",
        "  if n == 0:\n",
        "    print(0, end=' ')\n",
        "  else:\n",
        "    sum = 0\n",
        "    i = n\n",
        "    while i>0:\n",
        "      temp = i%10\n",
        "      sum = sum + temp*temp*temp\n",
        "      i = int(i/10)\n",
        "    if sum == n:\n",
        "      print(n, end=' ')\n",
        "      count += 1\n",
        "if count == 0:\n",
        "    print('No Armstrong Numbers within given range')\n"
      ],
      "metadata": {
        "colab": {
          "base_uri": "https://localhost:8080/"
        },
        "id": "aVeAmNmuTMrU",
        "outputId": "926503fd-a2e5-49bf-d16b-a9fe8279c336"
      },
      "execution_count": 22,
      "outputs": [
        {
          "output_type": "stream",
          "name": "stdout",
          "text": [
            "Enter lower limit: 3\n",
            "Enter upper limit: 5\n",
            "No Armstrong Numbers within given range\n"
          ]
        }
      ]
    },
    {
      "cell_type": "code",
      "source": [
        "#6 Write a Python Program to Find the Sum of Natural Numbers?\n",
        "n = int(input('Enter a natural number: '))\n",
        "if n<=0:\n",
        "  print('Invalid input')\n",
        "else:\n",
        "  print(f'{n*(n+1)/2} is the sum of natural numbers upto {n}')"
      ],
      "metadata": {
        "colab": {
          "base_uri": "https://localhost:8080/"
        },
        "id": "HgH9nsZ9V2VZ",
        "outputId": "c1b5dc81-b268-4d38-8ccb-b9d28095aa84"
      },
      "execution_count": 27,
      "outputs": [
        {
          "output_type": "stream",
          "name": "stdout",
          "text": [
            "Enter a natural number: 7\n",
            "28.0 is the sum of natural numbers upto 7\n"
          ]
        }
      ]
    }
  ]
}